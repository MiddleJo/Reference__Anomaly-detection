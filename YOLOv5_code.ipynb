{
  "nbformat": 4,
  "nbformat_minor": 0,
  "metadata": {
    "colab": {
      "name": "0428_increase_1024.ipynb",
      "provenance": [],
      "collapsed_sections": [],
      "include_colab_link": true
    },
    "kernelspec": {
      "name": "python3",
      "display_name": "Python 3"
    },
    "language_info": {
      "name": "python"
    },
    "accelerator": "GPU"
  },
  "cells": [
    {
      "cell_type": "markdown",
      "metadata": {
        "id": "view-in-github",
        "colab_type": "text"
      },
      "source": [
        "<a href=\"https://colab.research.google.com/github/djy00/ckad5_2nd/blob/main/YOLOv5_code.ipynb\" target=\"_parent\"><img src=\"https://colab.research.google.com/assets/colab-badge.svg\" alt=\"Open In Colab\"/></a>"
      ]
    },
    {
      "cell_type": "code",
      "source": [
        "# 데이터셋 관리와 라벨링은 roboflow를 이용하였습니다.\n",
        "# 데이터셋 export는 파일과 다운로드 코드 형식으로 가능합니다.\n",
        "# 해당 코드는 다운로드 코드를 사용예시 입니다.\n",
        "# 자세한 사용 가이드는 roboflow.com을 참조 하시기 바랍니다.\n",
        "\n",
        "!pip install roboflow\n",
        "\n",
        "from roboflow import Roboflow\n",
        "rf = Roboflow(api_key=\"******************\")\n",
        "project = rf.workspace(\"user name\").project(\"project name\")\n",
        "dataset = project.version(6).download(\"data format\",location = \"저장 경로\")"
      ],
      "metadata": {
        "id": "irgl1TzIN6Gz"
      },
      "execution_count": null,
      "outputs": []
    },
    {
      "cell_type": "code",
      "source": [
        "# 해당 프로젝트는 google colab 환경에서 수행하였습니다. \n",
        "# yolov5를 다운로드\n",
        "# 아래 모든 과정은 해당 yolov5 github를 참조\n",
        "%cd /content/drive/\"본인로컬\"\n",
        "!git clone https://github.com/ultralytics/yolov5.git"
      ],
      "metadata": {
        "id": "dcV0XmWgAePT"
      },
      "execution_count": null,
      "outputs": []
    },
    {
      "cell_type": "code",
      "execution_count": null,
      "metadata": {
        "id": "gwg9gAyO9GfI"
      },
      "outputs": [],
      "source": [
        "# 실행에 필요한 라이브러리 설치\n",
        "%cd /content/drive/MyDrive/project2/yolov5\n",
        "!pip install -r requirements.txt"
      ]
    },
    {
      "cell_type": "code",
      "source": [
        "# custom 데이터셋을 저장\n",
        "# 이미지의 경로를 나타내는 정보를 Yaml파일에 업데이트하는 과정\n",
        "\n",
        "from glob import glob\n",
        " \n",
        "# 이미지들의 주소 리스트로 만들어줌\n",
        "train_img_list = glob('/content/drive/MyDrive/project2/yolov5/data0428_inc/train/images/*.jpg')\n",
        "valid_img_list = glob('/content/drive/MyDrive/project2/yolov5/data0428_inc/valid/images/*.jpg')\n",
        "test_img_list = glob('/content/drive/MyDrive/project2/yolov5/data0428_inc/test/images/*.jpg')\n",
        " \n",
        "# 리스트를 txt파일로 생성\n",
        "with open('/content/drive/MyDrive/project2/yolov5/data0428_inc/train.txt', 'w') as f:\n",
        "   f.write('\\n'.join(train_img_list) + '\\n')\n",
        "    \n",
        "with open('/content/drive/MyDrive/project2/yolov5/data0428_inc/valid.txt', 'w') as f:\n",
        "   f.write('\\n'.join(valid_img_list) + '\\n')\n",
        "\n",
        "with open('/content/drive/MyDrive/project2/yolov5/data0428_inc/test.txt', 'w') as f:\n",
        "   f.write('\\n'.join(test_img_list) + '\\n')   "
      ],
      "metadata": {
        "id": "8Ey-5tKmaaPX"
      },
      "execution_count": null,
      "outputs": []
    },
    {
      "cell_type": "code",
      "source": [
        "import yaml\n",
        " \n",
        "with open('/content/drive/MyDrive/project2/yolov5/data0428_inc/data.yaml', 'r') as f:\n",
        "  data = yaml.full_load(f)\n",
        "    \n",
        "#print(data)\n",
        " \n",
        "data['train'] = '/content/drive/MyDrive/project2/yolov5/data0428_inc/train.txt'\n",
        "data['val'] = '/content/drive/MyDrive/project2/yolov5/data0428_inc/valid.txt'\n",
        "data['test'] = '/content/drive/MyDrive/project2/yolov5/data0428_inc/test.txt'\n",
        " \n",
        "with open('/content/drive/MyDrive/project2/yolov5/data0428_inc/data.yaml', 'w') as f:\n",
        "   yaml.dump(data, f)"
      ],
      "metadata": {
        "id": "dvZBrgZzacLI"
      },
      "execution_count": null,
      "outputs": []
    },
    {
      "cell_type": "code",
      "source": [
        "# yolov5는 wandb와의 연동을 지원합니다.\n",
        "# wandb를 통해 시각화 및 학습과정을 확인가능\n",
        "!pip install wandb"
      ],
      "metadata": {
        "id": "FM_7kFEhtnjM"
      },
      "execution_count": null,
      "outputs": []
    },
    {
      "cell_type": "code",
      "source": [
        "# 처음 이용한다면 출력되는 url접속을 통해 회원가입 후 key를 입력한다.\n",
        "!wandb login"
      ],
      "metadata": {
        "id": "2L8h18RHuxXs"
      },
      "execution_count": null,
      "outputs": []
    },
    {
      "cell_type": "code",
      "source": [
        "!wandb init"
      ],
      "metadata": {
        "id": "7NDrmIv3vDoT"
      },
      "execution_count": null,
      "outputs": []
    },
    {
      "cell_type": "code",
      "source": [
        "# 학습 진행전 gpu캐시를 초기화\n",
        "import torch\n",
        "torch.cuda.empty_cache()"
      ],
      "metadata": {
        "id": "luZYSkgTIoU2"
      },
      "execution_count": null,
      "outputs": []
    },
    {
      "cell_type": "code",
      "source": [
        "%cd /content/drive/MyDrive/project2/yolov5\n",
        "# imgz : 학습에 적용될 이미지 사이즈 (원본 이미지와 동일한 사이즈로 진행하는 것이 학습 효율이 좋다고 함)\n",
        "# custom 데이터셋을 사전 학습된 모델로 학습 (가중치를 업데이트 하며 학습이 진행되고, 최적의 가중치를 도출)\n",
        "!python train.py --imgsz 1024 --batch-size 10 --epochs 200 --data /content/drive/MyDrive/project2/yolov5/data0428_inc/data.yaml --cfg ./models/yolov5l.yaml --weights yolov5l.pt --name 0428_inc_L_1024"
      ],
      "metadata": {
        "id": "J8FID8CJD29V"
      },
      "execution_count": null,
      "outputs": []
    },
    {
      "cell_type": "code",
      "source": [
        "# val.py를 실행하여 학습된 가중치로 검증\n",
        "!python val.py --imgz 1024 --data /content/drive/MyDrive/project2/yolov5/data0428/data.yaml --weights /content/drive/MyDrive/project2/yolov5/runs/train/0428_inc_L_1024/weights/best.pt"
      ],
      "metadata": {
        "id": "V2g5p-RjMFpa"
      },
      "execution_count": null,
      "outputs": []
    },
    {
      "cell_type": "code",
      "source": [
        "# 학습 정보를 통해 test셋 이미지를 예측 및 검출\n",
        "# 단일 파일과 폴더째 둘다 가능\n",
        "# runs/detect 폴더에 결과 이미지가 저장\n",
        "!python detect.py --imgsz 1024 --weights /content/drive/MyDrive/project2/yolov5/runs/train/0428_inc_L_1024/weights/best.pt --source /content/drive/MyDrive/project2/yolov5/data/images/pattern_1-1-1-36-D_jpg.rf.0d292b60b819dfd97b8bacc10d72e8d7.jpg --save-crop"
      ],
      "metadata": {
        "id": "CeZcSruZ7NL_"
      },
      "execution_count": null,
      "outputs": []
    }
  ]
}