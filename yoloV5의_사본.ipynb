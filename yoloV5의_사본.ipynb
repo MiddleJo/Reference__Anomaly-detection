{
  "nbformat": 4,
  "nbformat_minor": 0,
  "metadata": {
    "colab": {
      "name": "yoloV5의 사본",
      "provenance": [],
      "collapsed_sections": [],
      "include_colab_link": true
    },
    "kernelspec": {
      "name": "python3",
      "display_name": "Python 3"
    },
    "language_info": {
      "name": "python"
    },
    "accelerator": "GPU"
  },
  "cells": [
    {
      "cell_type": "markdown",
      "metadata": {
        "id": "view-in-github",
        "colab_type": "text"
      },
      "source": [
        "<a href=\"https://colab.research.google.com/github/djy00/ckad5_2th_web/blob/main/yoloV5%EC%9D%98_%EC%82%AC%EB%B3%B8.ipynb\" target=\"_parent\"><img src=\"https://colab.research.google.com/assets/colab-badge.svg\" alt=\"Open In Colab\"/></a>"
      ]
    },
    {
      "cell_type": "code",
      "source": [
        "from google.colab import drive\n",
        "drive.mount('/content/drive')"
      ],
      "metadata": {
        "colab": {
          "base_uri": "https://localhost:8080/"
        },
        "id": "kc6_pvh68Yv3",
        "outputId": "3840a6dd-b787-4d56-9d13-4794f1c90c7f"
      },
      "execution_count": null,
      "outputs": [
        {
          "output_type": "stream",
          "name": "stdout",
          "text": [
            "Drive already mounted at /content/drive; to attempt to forcibly remount, call drive.mount(\"/content/drive\", force_remount=True).\n"
          ]
        }
      ]
    },
    {
      "cell_type": "code",
      "source": [
        "# yoloV5 다운로드\n",
        "%cd /content\n",
        "!git clone https://github.com/ultralytics/yolov5.git"
      ],
      "metadata": {
        "id": "dcV0XmWgAePT"
      },
      "execution_count": null,
      "outputs": []
    },
    {
      "cell_type": "code",
      "execution_count": null,
      "metadata": {
        "id": "gwg9gAyO9GfI"
      },
      "outputs": [],
      "source": [
        "#%cd /content/drive/MyDrive/project2/yolov5\n",
        "%cd /content/yolov5\n",
        "!pip install -r requirements.txt"
      ]
    },
    {
      "cell_type": "markdown",
      "source": [
        "- 데이터셋 폴더명 custom_data\n",
        "- 어제 했던거라 기억은 잘 안나는데 데이터셋이 yolov5안에 들어가 있어야 제대로 작동하는 거 같음.\n",
        "- 모든 경로는 본인 로컬로 바꿀 것.\n"
      ],
      "metadata": {
        "id": "zs75Wk8nA6pv"
      }
    },
    {
      "cell_type": "code",
      "source": [
        "# !pip install roboflow\n",
        "# download code를 이용하여 데이터 다운하기\n",
        "from roboflow import Roboflow\n",
        "rf = Roboflow(api_key=\"Nr3NIxE9pv4Bk9dkQcRd\", model_format='yolov5')\n",
        "dataset = rf.workspace().project(\"cakd5_2th_0413\").version(2).download(location = \"/content/yolov5/custom_data\")"
      ],
      "metadata": {
        "id": "Z7RoA_3JhN2B"
      },
      "execution_count": null,
      "outputs": []
    },
    {
      "cell_type": "code",
      "source": [
        "!unzip -qq \"/content/yolov5/custom_data.zip\" -d '/content/yolov5/custom_data'"
      ],
      "metadata": {
        "id": "6kW4cb-t9Jie"
      },
      "execution_count": null,
      "outputs": []
    },
    {
      "cell_type": "code",
      "source": [
        "import yaml\n",
        "\n",
        "with open('/content/yolov5/custom_data/data.yaml', 'r') as f:\n",
        "  data = yaml.full_load(f)\n",
        "\n",
        "print(data)\n",
        "\n",
        "data['train'] = '/content/yolov5/custom_data'\n",
        "data['test'] = '/content/yolov5/custom_data'\n",
        "data['val'] = '/content/yolov5/custom_data'\n",
        "\n",
        "with open('/content/yolov5/custom_data/data.yaml', 'w') as f:\n",
        "  yaml.dump(data, f)\n",
        "\n",
        "print(data)"
      ],
      "metadata": {
        "id": "wnRudHO4F-ay"
      },
      "execution_count": null,
      "outputs": []
    },
    {
      "cell_type": "code",
      "source": [
        "! pip install wandb"
      ],
      "metadata": {
        "id": "xKCsGViZi0lH"
      },
      "execution_count": null,
      "outputs": []
    },
    {
      "cell_type": "code",
      "source": [
        "# batch size, epochs 조정 가능\n",
        "# --cfg ./models/yolov5s.yaml cfg인자로 모델 선택가능 s,m,l,x\n",
        "# 경로만 바꿔주고 파일명은 일단 안건드리는거 추천 --name : 트레인 정보가 담긴 파일명 설정\n",
        "%cd /content/yolov5\n",
        "!python train.py --img 1024--batch 10 --epochs 200 --data /content/yolov5/custom_data/data.yaml --cfg ./models/yolov5l.yaml --weights yolov5l.pt --name custom_yolov5l_results "
      ],
      "metadata": {
        "id": "J8FID8CJD29V"
      },
      "execution_count": null,
      "outputs": []
    },
    {
      "cell_type": "code",
      "source": [
        "!zip -r custom_train_result.zip /content/yolov5/runs/train/custom_yolov5s_results"
      ],
      "metadata": {
        "id": "Fp-gU7VI1mBs"
      },
      "execution_count": null,
      "outputs": []
    },
    {
      "cell_type": "code",
      "source": [
        "!python val.py --data /content/yolov5/custom_data/data.yaml --weights /content/yolov5/runs/train/custom_yolov5l_results/weights/best.pt"
      ],
      "metadata": {
        "id": "0MJKkdW41pi3"
      },
      "execution_count": null,
      "outputs": []
    },
    {
      "cell_type": "code",
      "source": [
        "!python detect.py --weights /content/yolov5/runs/train/custom_yolov5l_results/weights/best.pt --source /content/yolov5/custom_data/test/images "
      ],
      "metadata": {
        "id": "yIU2FPVgM99q"
      },
      "execution_count": null,
      "outputs": []
    },
    {
      "cell_type": "code",
      "source": [
        "!zip -r  /content/drive/MyDrive/yolov5/exp0414.zip /content/yolov5/runs/detect/exp\n",
        "# 해당 폴더에 들어가면 결과 이미지가 들어있음"
      ],
      "metadata": {
        "id": "iWppKs-EKS7m"
      },
      "execution_count": null,
      "outputs": []
    }
  ]
}